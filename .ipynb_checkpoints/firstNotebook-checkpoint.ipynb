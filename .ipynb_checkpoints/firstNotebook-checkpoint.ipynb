{
 "cells": [
  {
   "cell_type": "markdown",
   "metadata": {},
   "source": [
    "# First Python notebook\n",
    "\n",
    "This will be the initial notebook to show what we can do and some code convention. \n",
    "\n",
    "There is a good thing to get familiar with markdown concepts but as a start I will show the most important things to have.\n",
    "\n",
    "Using # will be important for headings. So if I use one # that represents Heading 1. Using more that one # will result in the equivalent heading so that ## is heading 2 ect.\n",
    "\n",
    "To make a un-sorted list you would use - for this and for a sorted list you would use 1. .\n",
    "\n",
    "Here is how it would look like\n",
    "\n",
    "# Heading 1 = \"# Heading 1\"\n",
    "## Heading 2 = \"Heading 2\"\n",
    "### Heading 3 = \"Heading 3\"\n",
    "\n",
    "- Unsorted list 1\n",
    "- Unsorted list 2\n",
    "\n",
    "\n",
    "1. Sorted list 1\n",
    "2. Sorted list 2\n",
    "\n",
    "If you know any LaTex math formulas you can implement them here. It is also possible to use CSS customization for the notebooks"
   ]
  },
  {
   "cell_type": "markdown",
   "metadata": {},
   "source": [
    "# Code convention\n",
    "\n",
    "This is just to try and organize the code from the start. These convention make it easier to share and read code from multiple individuals. \n",
    "\n",
    "## Variable naming in Python\n",
    "\n",
    "Python has some rules for naming, which is just that a variable name can not start with a number, comma or point or other special characters.\n",
    "When naming variables its good to try to have the name really short, all lower case and if the name is short and not descriptive its good convention to add a comment above that descripes hat it is, like this for example"
   ]
  },
  {
   "cell_type": "code",
   "execution_count": 6,
   "metadata": {},
   "outputs": [
    {
     "data": {
      "text/plain": [
       "'Dont use this naming convention'"
      ]
     },
     "execution_count": 6,
     "metadata": {},
     "output_type": "execute_result"
    }
   ],
   "source": [
    "\n",
    "# This is a comment meant to descripe the name of the varialbe\n",
    "# We use hashtags here for this\n",
    "reallybadlongnameofavariable = \"Dont use this naming convention\"\n",
    "reallybadlongnameofavariable"
   ]
  },
  {
   "cell_type": "code",
   "execution_count": 7,
   "metadata": {},
   "outputs": [
    {
     "data": {
      "text/plain": [
       "[1000, 1500, 2000]"
      ]
     },
     "execution_count": 7,
     "metadata": {},
     "output_type": "execute_result"
    }
   ],
   "source": [
    "# here is a better example\n",
    "\n",
    "# Prices of goods\n",
    "price = [1000, 1500, 2000] # Having the comment here is ok so long you have space\n",
    "price"
   ]
  },
  {
   "cell_type": "markdown",
   "metadata": {},
   "source": [
    "## Function definition\n",
    "\n",
    "For naming/defining convention its good to start all the names of the functions with a lower case n. So it would look like this"
   ]
  },
  {
   "cell_type": "code",
   "execution_count": 8,
   "metadata": {},
   "outputs": [
    {
     "name": "stdout",
     "output_type": "stream",
     "text": [
      "Always start names of functions with an n\n"
     ]
    }
   ],
   "source": [
    "def nSomename():\n",
    "    print(\"Always start names of functions with an n\")\n",
    "    \n",
    "nSomename()"
   ]
  }
 ],
 "metadata": {
  "kernelspec": {
   "display_name": "Python 3",
   "language": "python",
   "name": "python3"
  },
  "language_info": {
   "codemirror_mode": {
    "name": "ipython",
    "version": 3
   },
   "file_extension": ".py",
   "mimetype": "text/x-python",
   "name": "python",
   "nbconvert_exporter": "python",
   "pygments_lexer": "ipython3",
   "version": "3.7.4"
  },
  "toc": {
   "base_numbering": 1,
   "nav_menu": {},
   "number_sections": true,
   "sideBar": true,
   "skip_h1_title": false,
   "title_cell": "Table of Contents",
   "title_sidebar": "Contents",
   "toc_cell": false,
   "toc_position": {},
   "toc_section_display": true,
   "toc_window_display": false
  }
 },
 "nbformat": 4,
 "nbformat_minor": 2
}
