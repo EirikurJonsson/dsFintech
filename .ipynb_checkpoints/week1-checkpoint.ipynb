{
 "cells": [
  {
   "cell_type": "markdown",
   "metadata": {},
   "source": [
    "# Week 1 exercises"
   ]
  },
  {
   "cell_type": "code",
   "execution_count": 1,
   "metadata": {},
   "outputs": [],
   "source": [
    "import pandas as pd\n",
    "import numpy as np\n",
    "import matplotlib.pyplot as plt\n",
    "import quandl\n",
    "from statsmodels.graphics.tsaplots import plot_pacf\n",
    "from statsmodels.graphics.tsaplots import plot_acf\n",
    "%matplotlib notebook\n",
    "\n",
    "df = quandl.get(\"GDAX/ETH_EUR\", authtoken=\"3CdfXCg8D_CWBs7UAwKr\")\n",
    "df2 = quandl.get(\"NASDAQOMX/OMXN40\", authtoken=\"3CdfXCg8D_CWBs7UAwKr\")"
   ]
  },
  {
   "cell_type": "code",
   "execution_count": 2,
   "metadata": {},
   "outputs": [
    {
     "name": "stdout",
     "output_type": "stream",
     "text": [
      "              Open    High     Low       Volume\n",
      "Date                                           \n",
      "2017-05-30  179.46  201.56  179.46   563.574044\n",
      "2017-05-31  201.49  210.31  192.10  1823.492476\n",
      "2017-06-01  205.00  211.20  180.00  4272.726510\n",
      "2017-06-02  192.34  204.54  192.34  1890.842875\n",
      "2017-06-03  197.00  201.22  196.52   604.755356\n",
      "====================================\n",
      "            Index Value  High  Low  Total Market Value  Dividend Market Value\n",
      "Trade Date                                                                   \n",
      "2008-11-17       638.85   0.0  0.0        2.258579e+11                    0.0\n",
      "2008-11-18       636.30   0.0  0.0        2.249564e+11                    0.0\n",
      "2008-11-19       609.51   0.0  0.0        2.154877e+11                    0.0\n",
      "2008-11-20       591.20   0.0  0.0        2.090121e+11                    0.0\n",
      "2008-11-24       621.92   0.0  0.0        2.198735e+11                    0.0\n"
     ]
    }
   ],
   "source": [
    "print(df.head())\n",
    "print(\"====================================\")\n",
    "print(df2.head())"
   ]
  },
  {
   "cell_type": "code",
   "execution_count": 3,
   "metadata": {},
   "outputs": [],
   "source": [
    "df2.index.name = \"Date\""
   ]
  },
  {
   "cell_type": "code",
   "execution_count": 4,
   "metadata": {},
   "outputs": [
    {
     "data": {
      "text/html": [
       "<div>\n",
       "<style scoped>\n",
       "    .dataframe tbody tr th:only-of-type {\n",
       "        vertical-align: middle;\n",
       "    }\n",
       "\n",
       "    .dataframe tbody tr th {\n",
       "        vertical-align: top;\n",
       "    }\n",
       "\n",
       "    .dataframe thead th {\n",
       "        text-align: right;\n",
       "    }\n",
       "</style>\n",
       "<table border=\"1\" class=\"dataframe\">\n",
       "  <thead>\n",
       "    <tr style=\"text-align: right;\">\n",
       "      <th></th>\n",
       "      <th>Index V</th>\n",
       "      <th>High</th>\n",
       "      <th>Low</th>\n",
       "      <th>Total MV</th>\n",
       "      <th>Dividend MV</th>\n",
       "    </tr>\n",
       "    <tr>\n",
       "      <th>Date</th>\n",
       "      <th></th>\n",
       "      <th></th>\n",
       "      <th></th>\n",
       "      <th></th>\n",
       "      <th></th>\n",
       "    </tr>\n",
       "  </thead>\n",
       "  <tbody>\n",
       "    <tr>\n",
       "      <th>2008-11-17</th>\n",
       "      <td>638.85</td>\n",
       "      <td>0.00</td>\n",
       "      <td>0.00</td>\n",
       "      <td>2.258579e+11</td>\n",
       "      <td>0.0</td>\n",
       "    </tr>\n",
       "    <tr>\n",
       "      <th>2008-11-18</th>\n",
       "      <td>636.30</td>\n",
       "      <td>0.00</td>\n",
       "      <td>0.00</td>\n",
       "      <td>2.249564e+11</td>\n",
       "      <td>0.0</td>\n",
       "    </tr>\n",
       "    <tr>\n",
       "      <th>2008-11-19</th>\n",
       "      <td>609.51</td>\n",
       "      <td>0.00</td>\n",
       "      <td>0.00</td>\n",
       "      <td>2.154877e+11</td>\n",
       "      <td>0.0</td>\n",
       "    </tr>\n",
       "    <tr>\n",
       "      <th>2008-11-20</th>\n",
       "      <td>591.20</td>\n",
       "      <td>0.00</td>\n",
       "      <td>0.00</td>\n",
       "      <td>2.090121e+11</td>\n",
       "      <td>0.0</td>\n",
       "    </tr>\n",
       "    <tr>\n",
       "      <th>2008-11-24</th>\n",
       "      <td>621.92</td>\n",
       "      <td>0.00</td>\n",
       "      <td>0.00</td>\n",
       "      <td>2.198735e+11</td>\n",
       "      <td>0.0</td>\n",
       "    </tr>\n",
       "    <tr>\n",
       "      <th>...</th>\n",
       "      <td>...</td>\n",
       "      <td>...</td>\n",
       "      <td>...</td>\n",
       "      <td>...</td>\n",
       "      <td>...</td>\n",
       "    </tr>\n",
       "    <tr>\n",
       "      <th>2020-01-29</th>\n",
       "      <td>1729.08</td>\n",
       "      <td>1734.32</td>\n",
       "      <td>1718.72</td>\n",
       "      <td>6.403785e+11</td>\n",
       "      <td>0.0</td>\n",
       "    </tr>\n",
       "    <tr>\n",
       "      <th>2020-01-30</th>\n",
       "      <td>1712.50</td>\n",
       "      <td>1731.09</td>\n",
       "      <td>1709.76</td>\n",
       "      <td>6.342352e+11</td>\n",
       "      <td>0.0</td>\n",
       "    </tr>\n",
       "    <tr>\n",
       "      <th>2020-01-31</th>\n",
       "      <td>1706.09</td>\n",
       "      <td>1726.58</td>\n",
       "      <td>1702.43</td>\n",
       "      <td>6.318631e+11</td>\n",
       "      <td>0.0</td>\n",
       "    </tr>\n",
       "    <tr>\n",
       "      <th>2020-02-03</th>\n",
       "      <td>1708.42</td>\n",
       "      <td>1713.39</td>\n",
       "      <td>1699.99</td>\n",
       "      <td>6.327257e+11</td>\n",
       "      <td>0.0</td>\n",
       "    </tr>\n",
       "    <tr>\n",
       "      <th>2020-02-04</th>\n",
       "      <td>NaN</td>\n",
       "      <td>0.00</td>\n",
       "      <td>0.00</td>\n",
       "      <td>NaN</td>\n",
       "      <td>0.0</td>\n",
       "    </tr>\n",
       "  </tbody>\n",
       "</table>\n",
       "<p>2867 rows × 5 columns</p>\n",
       "</div>"
      ],
      "text/plain": [
       "            Index V     High      Low      Total MV  Dividend MV\n",
       "Date                                                            \n",
       "2008-11-17   638.85     0.00     0.00  2.258579e+11          0.0\n",
       "2008-11-18   636.30     0.00     0.00  2.249564e+11          0.0\n",
       "2008-11-19   609.51     0.00     0.00  2.154877e+11          0.0\n",
       "2008-11-20   591.20     0.00     0.00  2.090121e+11          0.0\n",
       "2008-11-24   621.92     0.00     0.00  2.198735e+11          0.0\n",
       "...             ...      ...      ...           ...          ...\n",
       "2020-01-29  1729.08  1734.32  1718.72  6.403785e+11          0.0\n",
       "2020-01-30  1712.50  1731.09  1709.76  6.342352e+11          0.0\n",
       "2020-01-31  1706.09  1726.58  1702.43  6.318631e+11          0.0\n",
       "2020-02-03  1708.42  1713.39  1699.99  6.327257e+11          0.0\n",
       "2020-02-04      NaN     0.00     0.00           NaN          0.0\n",
       "\n",
       "[2867 rows x 5 columns]"
      ]
     },
     "execution_count": 4,
     "metadata": {},
     "output_type": "execute_result"
    }
   ],
   "source": [
    "df2 = df2.rename(columns = {\"Dividend Market Value\":\"Dividend MV\",\n",
    "                      \"Total Market Value\": \"Total MV\", \"Index Value\":\"Index V\"})\n",
    "df2"
   ]
  },
  {
   "cell_type": "code",
   "execution_count": 26,
   "metadata": {},
   "outputs": [
    {
     "name": "stdout",
     "output_type": "stream",
     "text": [
      "Mean\n",
      "Open        323.706420\n",
      "High        337.203698\n",
      "Low         307.553225\n",
      "Volume    14621.880173\n",
      "dtype: float64\n",
      "=========================\n",
      "Median\n",
      "Open        256.040000\n",
      "High        263.955000\n",
      "Low         246.795000\n",
      "Volume    10274.620556\n",
      "dtype: float64\n",
      "=========================\n",
      "Standard Deviation\n",
      "Open        200.732663\n",
      "High        211.276788\n",
      "Low         187.465878\n",
      "Volume    15103.673616\n",
      "dtype: float64\n",
      "=========================\n",
      "Quantiles\n",
      "         Open      High      Low        Volume\n",
      "0.25  179.375  191.5825  173.475   6096.933370\n",
      "0.50  256.040  263.9550  246.795  10274.620556\n",
      "0.75  400.145  414.3175  388.755  17352.718337\n"
     ]
    }
   ],
   "source": [
    "print(\"Mean\")\n",
    "print(df.mean())\n",
    "print(\"=========================\")\n",
    "print(\"Median\")\n",
    "print(df.median())\n",
    "print(\"=========================\")\n",
    "print(\"Standard Deviation\")\n",
    "print(df.std())\n",
    "print(\"=========================\")\n",
    "print(\"Quantiles\")\n",
    "print(df.quantile([0.25,0.5,0.75]))"
   ]
  },
  {
   "cell_type": "code",
   "execution_count": 6,
   "metadata": {},
   "outputs": [
    {
     "data": {
      "image/png": "[encoded data removed]",
      "text/plain": [
       "<Figure size 432x288 with 1 Axes>"
      ]
     },
     "metadata": {
      "needs_background": "light"
     },
     "output_type": "display_data"
    }
   ],
   "source": [
    "df[[\"Open\", \"Low\", \"High\"]].plot()\n",
    "plt.show()"
   ]
  },
  {
   "cell_type": "code",
   "execution_count": 7,
   "metadata": {},
   "outputs": [
    {
     "data": {
      "image/png": "[encoded data removed]",
      "text/plain": [
       "<Figure size 432x288 with 1 Axes>"
      ]
     },
     "metadata": {
      "needs_background": "light"
     },
     "output_type": "display_data"
    }
   ],
   "source": [
    "df2[\"return\"] = df2[\"Total MV\"].pct_change()\n",
    "df2[\"return\"].plot()\n",
    "plt.show()"
   ]
  },
  {
   "cell_type": "code",
   "execution_count": 8,
   "metadata": {},
   "outputs": [
    {
     "name": "stderr",
     "output_type": "stream",
     "text": [
      "c:\\users\\eirik\\appdata\\local\\programs\\python\\python37-32\\lib\\site-packages\\numpy\\lib\\histograms.py:839: RuntimeWarning: invalid value encountered in greater_equal\n",
      "  keep = (tmp_a >= first_edge)\n",
      "c:\\users\\eirik\\appdata\\local\\programs\\python\\python37-32\\lib\\site-packages\\numpy\\lib\\histograms.py:840: RuntimeWarning: invalid value encountered in less_equal\n",
      "  keep &= (tmp_a <= last_edge)\n"
     ]
    },
    {
     "data": {
      "image/png": "[encoded data removed]",
      "text/plain": [
       "<Figure size 432x288 with 1 Axes>"
      ]
     },
     "metadata": {
      "needs_background": "light"
     },
     "output_type": "display_data"
    }
   ],
   "source": [
    "df2[\"logReturn\"] = np.log(df2[\"Total MV\"]).diff()\n",
    "plt.hist(df2[\"logReturn\"], bins = 40)\n",
    "plt.show()"
   ]
  },
  {
   "cell_type": "code",
   "execution_count": 19,
   "metadata": {},
   "outputs": [
    {
     "name": "stdout",
     "output_type": "stream",
     "text": [
      "0.7621699690055647\n"
     ]
    }
   ],
   "source": [
    "a = df2[\"Total MV\"].autocorr(lag = 500)\n",
    "print(a)"
   ]
  },
  {
   "cell_type": "code",
   "execution_count": 24,
   "metadata": {},
   "outputs": [
    {
     "data": {
      "image/png": "[encoded data removed]",
      "text/plain": [
       "<Figure size 432x288 with 1 Axes>"
      ]
     },
     "metadata": {
      "needs_background": "light"
     },
     "output_type": "display_data"
    }
   ],
   "source": [
    "plot_acf(df[\"Open\"], lags = 150)\n",
    "plt.show()"
   ]
  }
 ],
 "metadata": {
  "kernelspec": {
   "display_name": "Python 3",
   "language": "python",
   "name": "python3"
  },
  "language_info": {
   "codemirror_mode": {
    "name": "ipython",
    "version": 3
   },
   "file_extension": ".py",
   "mimetype": "text/x-python",
   "name": "python",
   "nbconvert_exporter": "python",
   "pygments_lexer": "ipython3",
   "version": "3.7.4"
  },
  "toc": {
   "base_numbering": 1,
   "nav_menu": {},
   "number_sections": true,
   "sideBar": true,
   "skip_h1_title": false,
   "title_cell": "Table of Contents",
   "title_sidebar": "Contents",
   "toc_cell": false,
   "toc_position": {},
   "toc_section_display": true,
   "toc_window_display": false
  }
 },
 "nbformat": 4,
 "nbformat_minor": 2
}
